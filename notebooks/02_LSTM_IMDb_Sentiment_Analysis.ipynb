{
  "cells": [
    {
      "cell_type": "markdown",
      "metadata": {},
      "source": [
        "<h2 style=\"text-align:center;\">IMDb Movie Review Sentiment Analysis (LSTM)</h2>\n",
        "\n",
        "<h3 style=\"text-align:center;\">Part A: NLP-Final Project</h3>"
      ]
    },
    {
      "cell_type": "markdown",
      "metadata": {},
      "source": [
        "---"
      ]
    },
    {
      "cell_type": "markdown",
      "metadata": {
        "id": "rPg1xzeNbdEN"
      },
      "source": [
        "\n",
        "## 1. Introduction <a name=\"introduction\"></a>\n",
        "\n",
        "This project performs sentiment analysis on IMDb movie reviews using deep learning techniques. We compare with advanced deep learning models (LSTM)."
      ]
    },
    {
      "cell_type": "code",
      "execution_count": null,
      "metadata": {
        "id": "WpKuOyPZZXxb"
      },
      "outputs": [],
      "source": [
        "# Install required packages\n",
        "!pip install tensorflow transformers pandas numpy matplotlib nltk seaborn"
      ]
    },
    {
      "cell_type": "code",
      "execution_count": null,
      "metadata": {
        "colab": {
          "base_uri": "https://localhost:8080/"
        },
        "id": "OmS0s0W_Dtf_",
        "outputId": "afa03994-7b79-4df9-8902-b8fbcc04545b"
      },
      "outputs": [
        {
          "name": "stdout",
          "output_type": "stream",
          "text": [
            "TensorFlow version: 2.18.0\n",
            "No GPU found\n"
          ]
        }
      ],
      "source": [
        "import tensorflow as tf\n",
        "print(\"TensorFlow version:\", tf.__version__)\n",
        "gpu_device_name = tf.test.gpu_device_name()\n",
        "if gpu_device_name:\n",
        "    print(\"GPU device name:\", gpu_device_name)\n",
        "else:\n",
        "    print(\"No GPU found\")"
      ]
    },
    {
      "cell_type": "markdown",
      "metadata": {
        "id": "xn5o8Jx7bn44"
      },
      "source": [
        "## 2. Data Loading and Exploration <a name=\"data-loading\"></a>\n",
        "\n",
        "First, we load and explore the dataset to understand its structure and characteristics."
      ]
    },
    {
      "cell_type": "markdown",
      "metadata": {
        "id": "i6f-7gavAJXf"
      },
      "source": [
        "**Importing Required Libraries**\n",
        "\n",
        "We import necessary packages for:\n",
        "- Data manipulation (pandas, numpy)\n",
        "- Data visualization (matplotlib, seaborn)"
      ]
    },
    {
      "cell_type": "code",
      "execution_count": null,
      "metadata": {
        "id": "wqSPIAOxAOpT"
      },
      "outputs": [],
      "source": [
        "import pandas as pd\n",
        "import numpy as np\n",
        "import matplotlib.pyplot as plt\n",
        "import seaborn as sns\n",
        "\n",
        "# Set style for better-looking plots\n",
        "sns.set_theme()"
      ]
    },
    {
      "cell_type": "markdown",
      "metadata": {
        "id": "yB-pexSLARup"
      },
      "source": [
        "**Loading and Initial Exploration**\n",
        "\n",
        "Load the dataset and perform initial inspection:\n",
        "- Check dataset dimensions\n",
        "- Examine first few rows\n",
        "- Identify missing values\n",
        "- Analyze sentiment distribution"
      ]
    },
    {
      "cell_type": "code",
      "execution_count": null,
      "metadata": {
        "colab": {
          "base_uri": "https://localhost:8080/"
        },
        "id": "zVtoGl6xAWf2",
        "outputId": "c4fb56a3-39f6-45e5-93f1-4d045ef657b3"
      },
      "outputs": [
        {
          "name": "stdout",
          "output_type": "stream",
          "text": [
            "Dataset shape: (50000, 2)\n",
            "\n",
            "First 5 rows:\n",
            "                                              review sentiment\n",
            "0  One of the other reviewers has mentioned that ...  positive\n",
            "1  A wonderful little production. <br /><br />The...  positive\n",
            "2  I thought this was a wonderful way to spend ti...  positive\n",
            "3  Basically there's a family where a little boy ...  negative\n",
            "4  Petter Mattei's \"Love in the Time of Money\" is...  positive\n",
            "\n",
            "Missing values:\n",
            "review       0\n",
            "sentiment    0\n",
            "dtype: int64\n",
            "\n",
            "Sentiment distribution:\n",
            "sentiment\n",
            "positive    25000\n",
            "negative    25000\n",
            "Name: count, dtype: int64\n"
          ]
        }
      ],
      "source": [
        "# Load the data\n",
        "df = pd.read_csv('/content/data_imdb.csv')\n",
        "\n",
        "# Initial exploration\n",
        "print(\"Dataset shape:\", df.shape)\n",
        "print(\"\\nFirst 5 rows:\")\n",
        "print(df.head())\n",
        "print(\"\\nMissing values:\")\n",
        "print(df.isnull().sum())\n",
        "print(\"\\nSentiment distribution:\")\n",
        "print(df['sentiment'].value_counts())"
      ]
    },
    {
      "cell_type": "markdown",
      "metadata": {
        "id": "mEA6Sg_vAYXU"
      },
      "source": [
        "**Review Length Analysis**\n",
        "\n",
        "Analyze the length of reviews:\n",
        "- Create new column for review length\n",
        "- Calculate descriptive statistics\n",
        "- Visualize distribution of lengths"
      ]
    },
    {
      "cell_type": "code",
      "execution_count": null,
      "metadata": {
        "colab": {
          "base_uri": "https://localhost:8080/",
          "height": 774
        },
        "id": "_t274CC6AcYZ",
        "outputId": "846744e4-6d86-4e55-abca-0af3a357a326"
      },
      "outputs": [
        {
          "name": "stdout",
          "output_type": "stream",
          "text": [
            "\n",
            "Review length statistics:\n",
            "count    50000.000000\n",
            "mean      1309.367720\n",
            "std        989.759532\n",
            "min          7.000000\n",
            "25%        699.000000\n",
            "50%        970.000000\n",
            "75%       1590.000000\n",
            "max      13704.000000\n",
            "Name: review_length, dtype: float64\n"
          ]
        },
        {
          "data": {
            "image/png": "[encoded data removed]",
            "text/plain": [
              "<Figure size 1000x600 with 1 Axes>"
            ]
          },
          "metadata": {},
          "output_type": "display_data"
        }
      ],
      "source": [
        "# Analyze review length\n",
        "df['review_length'] = df['review'].apply(len)\n",
        "print(\"\\nReview length statistics:\")\n",
        "print(df['review_length'].describe())\n",
        "\n",
        "# Plot review length distribution\n",
        "plt.figure(figsize=(10, 6))\n",
        "sns.histplot(df['review_length'], bins=50, kde=True)\n",
        "plt.title('Distribution of Review Length', fontsize=14)\n",
        "plt.xlabel('Number of Characters', fontsize=12)\n",
        "plt.ylabel('Frequency', fontsize=12)\n",
        "plt.grid(True, alpha=0.3)\n",
        "plt.show()"
      ]
    },
    {
      "cell_type": "markdown",
      "metadata": {
        "id": "XV75r6Wubs-J"
      },
      "source": [
        "## 3. Text Preprocessing <a name=\"preprocessing\"></a>\n",
        "\n",
        "Clean and prepare the text data for analysis by removing noise and standardizing the format."
      ]
    },
    {
      "cell_type": "markdown",
      "metadata": {
        "id": "jqppS9LyBHVb"
      },
      "source": [
        "**Importing Required Libraries**\n",
        "\n",
        "We import necessary packages for:\n",
        "- Regular expressions (`re`) for pattern matching\n",
        "- NLTK for natural language processing\n",
        "- Text processing tools (stopwords, tokenizer, lemmatizer)"
      ]
    },
    {
      "cell_type": "code",
      "execution_count": null,
      "metadata": {
        "id": "GGlaFd6bBO4W"
      },
      "outputs": [],
      "source": [
        "import re\n",
        "import nltk\n",
        "from nltk.corpus import stopwords\n",
        "from nltk.tokenize import word_tokenize\n",
        "from nltk.stem import WordNetLemmatizer"
      ]
    },
    {
      "cell_type": "markdown",
      "metadata": {
        "id": "u0jP2-7NBQ9-"
      },
      "source": [
        "**Downloading NLTK Resources**\n",
        "\n",
        "Download required NLTK data packages:\n",
        "- `punkt` for tokenization\n",
        "- `stopwords` for common English stopwords\n",
        "- `wordnet` for lemmatization\n",
        "- `punkt_tab` for improved tokenization"
      ]
    },
    {
      "cell_type": "code",
      "execution_count": null,
      "metadata": {
        "colab": {
          "base_uri": "https://localhost:8080/"
        },
        "id": "VjT82569BUNw",
        "outputId": "deaa9787-174d-48b8-b705-5a5f758705be"
      },
      "outputs": [
        {
          "name": "stderr",
          "output_type": "stream",
          "text": [
            "[nltk_data] Downloading package punkt to /root/nltk_data...\n",
            "[nltk_data]   Unzipping tokenizers/punkt.zip.\n",
            "[nltk_data] Downloading package stopwords to /root/nltk_data...\n",
            "[nltk_data]   Unzipping corpora/stopwords.zip.\n",
            "[nltk_data] Downloading package wordnet to /root/nltk_data...\n",
            "[nltk_data] Downloading package punkt_tab to /root/nltk_data...\n",
            "[nltk_data]   Unzipping tokenizers/punkt_tab.zip.\n"
          ]
        },
        {
          "data": {
            "text/plain": [
              "True"
            ]
          },
          "execution_count": 14,
          "metadata": {},
          "output_type": "execute_result"
        }
      ],
      "source": [
        "nltk.download('punkt')\n",
        "nltk.download('stopwords')\n",
        "nltk.download('wordnet')\n",
        "nltk.download('punkt_tab')"
      ]
    },
    {
      "cell_type": "markdown",
      "metadata": {
        "id": "ntZvbTuFBWh8"
      },
      "source": [
        "**Initializing Text Processing Tools**\n",
        "\n",
        "Set up our text cleaning pipeline components:\n",
        "- Lemmatizer to reduce words to base forms\n",
        "- Stopwords list for filtering common words"
      ]
    },
    {
      "cell_type": "code",
      "execution_count": null,
      "metadata": {
        "id": "9WhCa6ZbBabg"
      },
      "outputs": [],
      "source": [
        "# Initialize text processing tools\n",
        "lemmatizer = WordNetLemmatizer()\n",
        "stop_words = set(stopwords.words('english'))"
      ]
    },
    {
      "cell_type": "markdown",
      "metadata": {
        "id": "yFSQSCAxBHMz"
      },
      "source": [
        "**Text Preprocessing Function**\n",
        "\n",
        "This comprehensive cleaning function performs:\n",
        "1. Case normalization (lowercasing)\n",
        "2. HTML tag removal\n",
        "3. Special character/number removal\n",
        "4. Tokenization\n",
        "5. Stopword removal\n",
        "6. Lemmatization\n",
        "7. Rejoining tokens into clean text"
      ]
    },
    {
      "cell_type": "code",
      "execution_count": null,
      "metadata": {
        "id": "aruvSYb_BuQq"
      },
      "outputs": [],
      "source": [
        "def preprocess_text(text):\n",
        "    # Convert to lowercase\n",
        "    text = text.lower()\n",
        "    # Remove HTML tags\n",
        "    text = re.sub(r'<[^>]+>', '', text)\n",
        "    # Remove special characters and numbers\n",
        "    text = re.sub(r'[^a-zA-Z\\s]', '', text)\n",
        "    # Tokenize\n",
        "    tokens = word_tokenize(text)\n",
        "    # Remove stopwords and lemmatize\n",
        "    tokens = [lemmatizer.lemmatize(word) for word in tokens if word not in stop_words]\n",
        "    return ' '.join(tokens)"
      ]
    },
    {
      "cell_type": "markdown",
      "metadata": {
        "id": "hCeqcmkaBwLs"
      },
      "source": [
        "**Applying Preprocessing to Reviews**\n",
        "\n",
        "Apply our cleaning function to all reviews:\n",
        "- Creates new column with cleaned text\n",
        "- Shows sample before/after comparison"
      ]
    },
    {
      "cell_type": "code",
      "execution_count": null,
      "metadata": {
        "colab": {
          "base_uri": "https://localhost:8080/"
        },
        "id": "VHtoG1jlB0HO",
        "outputId": "bedb885d-889c-4d68-e3cf-0be454c71aaf"
      },
      "outputs": [
        {
          "name": "stdout",
          "output_type": "stream",
          "text": [
            "\n",
            "Sample cleaned reviews:\n",
            "                                              review  \\\n",
            "0  One of the other reviewers has mentioned that ...   \n",
            "1  A wonderful little production. <br /><br />The...   \n",
            "2  I thought this was a wonderful way to spend ti...   \n",
            "3  Basically there's a family where a little boy ...   \n",
            "4  Petter Mattei's \"Love in the Time of Money\" is...   \n",
            "\n",
            "                                      cleaned_review  \n",
            "0  one reviewer mentioned watching oz episode you...  \n",
            "1  wonderful little production filming technique ...  \n",
            "2  thought wonderful way spend time hot summer we...  \n",
            "3  basically there family little boy jake think t...  \n",
            "4  petter matteis love time money visually stunni...  \n"
          ]
        }
      ],
      "source": [
        "# Apply preprocessing\n",
        "df['cleaned_review'] = df['review'].apply(preprocess_text)\n",
        "print(\"\\nSample cleaned reviews:\")\n",
        "print(df[['review', 'cleaned_review']].head())"
      ]
    },
    {
      "cell_type": "markdown",
      "metadata": {
        "id": "vOYO28IWbx_b"
      },
      "source": [
        "## 4. Feature Extraction <a name=\"feature-extraction\"></a>\n",
        "\n",
        "Convert text into numerical features that machine learning models can process.\n"
      ]
    },
    {
      "cell_type": "markdown",
      "metadata": {
        "id": "4RqfTOC9FZWS"
      },
      "source": [
        "**TF-IDF Vectorization:**\n",
        "TF-IDF (Term Frequency-Inverse Document Frequency) is used to convert text data into numerical features that represent the importance of words in documents relative to their frequency across all documents."
      ]
    },
    {
      "cell_type": "code",
      "execution_count": null,
      "metadata": {
        "id": "IZHdX36QFdiQ"
      },
      "outputs": [],
      "source": [
        "from sklearn.feature_extraction.text import TfidfVectorizer\n",
        "\n",
        "# Initialize TF-IDF Vectorizer with maximum 5000 features\n",
        "tfidf_vectorizer = TfidfVectorizer(max_features=5000)\n",
        "\n",
        "# Transform cleaned reviews into TF-IDF features\n",
        "X_tfidf = tfidf_vectorizer.fit_transform(df['cleaned_review'])"
      ]
    },
    {
      "cell_type": "markdown",
      "metadata": {
        "id": "4HiQ5YUUFjJC"
      },
      "source": [
        "**Explanation:**\n",
        "- `TfidfVectorizer` converts text to TF-IDF features matrix\n",
        "- `max_features=5000` limits the vocabulary size to top 5000 terms\n",
        "- `fit_transform()` learns vocabulary and transforms text data in one step\n",
        "- Output is a sparse matrix where each row represents a review and columns represent TF-IDF scores for each word\n",
        "\n",
        "\n",
        "\n"
      ]
    },
    {
      "cell_type": "markdown",
      "metadata": {
        "id": "GrATJ1K3Fs_p"
      },
      "source": [
        "**Label Encoding:**\n",
        "\n",
        "Convert sentiment labels from text to numerical values for machine learning."
      ]
    },
    {
      "cell_type": "code",
      "execution_count": null,
      "metadata": {
        "id": "um792AeeFpmQ"
      },
      "outputs": [],
      "source": [
        "# Convert sentiment to numerical values (positive=1, negative=0)\n",
        "y = df['sentiment'].map({'positive': 1, 'negative': 0})"
      ]
    },
    {
      "cell_type": "markdown",
      "metadata": {
        "id": "Xq0CNm2oF0qE"
      },
      "source": [
        "**Explanation:**\n",
        "- Maps 'positive' sentiment to 1 and 'negative' to 0\n",
        "- This binary encoding is required for most classification algorithms"
      ]
    },
    {
      "cell_type": "markdown",
      "metadata": {
        "id": "EcnIvGiUF7Ob"
      },
      "source": [
        "\n",
        "**Train-Test Split:**\n",
        "\n",
        "Split the dataset into training and testing subsets for model evaluation."
      ]
    },
    {
      "cell_type": "code",
      "execution_count": null,
      "metadata": {
        "colab": {
          "base_uri": "https://localhost:8080/"
        },
        "id": "-QbOg1skF8w1",
        "outputId": "d8e3382a-18fb-4166-8ee2-0f8887fd5f1e"
      },
      "outputs": [
        {
          "name": "stdout",
          "output_type": "stream",
          "text": [
            "\n",
            "Training set size: (40000, 5000)\n",
            "Testing set size: (10000, 5000)\n"
          ]
        }
      ],
      "source": [
        "from sklearn.model_selection import train_test_split\n",
        "\n",
        "# Split data into 80% training and 20% testing\n",
        "X_train, X_test, y_train, y_test = train_test_split(\n",
        "    X_tfidf, y,\n",
        "    test_size=0.2,\n",
        "    random_state=42\n",
        ")\n",
        "\n",
        "# Display dataset sizes\n",
        "print(f\"\\nTraining set size: {X_train.shape}\")\n",
        "print(f\"Testing set size: {X_test.shape}\")"
      ]
    },
    {
      "cell_type": "markdown",
      "metadata": {
        "id": "3c5YwZaCGBcL"
      },
      "source": [
        "**Explanation:**\n",
        "- `train_test_split` randomly divides the data while maintaining class proportions\n",
        "- `test_size=0.2` allocates 20% of data for testing\n",
        "- `random_state=42` ensures reproducible splits\n",
        "- Shapes are printed to verify proper splitting"
      ]
    },
    {
      "cell_type": "markdown",
      "metadata": {
        "id": "QVMWqxkCKy6m"
      },
      "source": [
        "---"
      ]
    },
    {
      "cell_type": "markdown",
      "metadata": {
        "id": "ZDnIa27xb6WS"
      },
      "source": [
        "## 5. LSTM <a name=\"lstm\"></a>\n",
        "\n",
        "1. Implement a more sophisticated neural network with LSTM layers.\n"
      ]
    },
    {
      "cell_type": "code",
      "execution_count": null,
      "metadata": {
        "id": "ZiTNm5rfgqPn"
      },
      "outputs": [],
      "source": [
        "from tensorflow.keras.preprocessing.text import Tokenizer\n",
        "from tensorflow.keras.preprocessing.sequence import pad_sequences\n",
        "from tensorflow.keras.models import Sequential\n",
        "from tensorflow.keras.layers import Embedding, LSTM, Dense, Dropout"
      ]
    },
    {
      "cell_type": "markdown",
      "metadata": {
        "id": "dRYi8_Cngsik"
      },
      "source": [
        "**Key Components:**\n",
        "- `Tokenizer`: Converts text to numerical sequences\n",
        "- `pad_sequences`: Ensures uniform sequence length\n",
        "- `Sequential`: Linear stack of layers\n",
        "- `Embedding`: Word embedding layer\n",
        "- `LSTM`: Long Short-Term Memory layer\n",
        "- `Dense`: Fully connected neural layer"
      ]
    },
    {
      "cell_type": "markdown",
      "metadata": {
        "id": "ZhAbWYiYgvcD"
      },
      "source": [
        "### 2. Text Tokenization and Sequencing"
      ]
    },
    {
      "cell_type": "code",
      "execution_count": null,
      "metadata": {
        "id": "drbpor0Tgx0A"
      },
      "outputs": [],
      "source": [
        "# Initialize tokenizer with 5000 word vocabulary\n",
        "tokenizer = Tokenizer(num_words=5000)\n",
        "tokenizer.fit_on_texts(df['cleaned_review'])\n",
        "\n",
        "# Convert text to sequences\n",
        "X_seq = tokenizer.texts_to_sequences(df['cleaned_review'])\n",
        "\n",
        "# Pad sequences to uniform length (200)\n",
        "X_pad = pad_sequences(X_seq, maxlen=200)"
      ]
    },
    {
      "cell_type": "markdown",
      "metadata": {
        "id": "nMiyEEDzg0J5"
      },
      "source": [
        "**Key Parameters:**\n",
        "- `num_words=5000`: Limits vocabulary to top 5000 frequent words\n",
        "- `maxlen=200`: Truncates/pads sequences to 200 tokens\n",
        "\n",
        "**Process Flow:**\n",
        "1. Builds word index from cleaned reviews\n",
        "2. Transforms text to sequences of word indices\n",
        "3. Standardizes sequence length for model input"
      ]
    },
    {
      "cell_type": "markdown",
      "metadata": {
        "id": "F3UqKzmYg2m5"
      },
      "source": [
        "### 3. Train-Test Split"
      ]
    },
    {
      "cell_type": "code",
      "execution_count": null,
      "metadata": {
        "id": "iFo8ZvUxg4LK"
      },
      "outputs": [],
      "source": [
        "X_train_lstm, X_test_lstm, y_train_lstm, y_test_lstm = train_test_split(\n",
        "    X_pad, y, test_size=0.2, random_state=42)"
      ]
    },
    {
      "cell_type": "markdown",
      "metadata": {
        "id": "0_h8d9vGg7RV"
      },
      "source": [
        "### 4. LSTM Model Architecture"
      ]
    },
    {
      "cell_type": "code",
      "execution_count": null,
      "metadata": {
        "colab": {
          "base_uri": "https://localhost:8080/"
        },
        "id": "2mkgaYE0g9iu",
        "outputId": "c299d110-1dc8-4d61-e030-c5c3d5a36587"
      },
      "outputs": [
        {
          "name": "stderr",
          "output_type": "stream",
          "text": [
            "/usr/local/lib/python3.11/dist-packages/keras/src/layers/core/embedding.py:90: UserWarning: Argument `input_length` is deprecated. Just remove it.\n",
            "  warnings.warn(\n"
          ]
        }
      ],
      "source": [
        "model = Sequential([\n",
        "    # Embedding layer (5000 words → 128-dim vectors)\n",
        "    Embedding(input_dim=5000, output_dim=128, input_length=200),\n",
        "\n",
        "    # LSTM layer with dropout regularization\n",
        "    LSTM(128, dropout=0.2, recurrent_dropout=0.2),\n",
        "\n",
        "    # Fully connected layer\n",
        "    Dense(64, activation='relu'),\n",
        "\n",
        "    # Dropout for regularization\n",
        "    Dropout(0.5),\n",
        "\n",
        "    # Output layer (sigmoid for binary classification)\n",
        "    Dense(1, activation='sigmoid')\n",
        "])"
      ]
    },
    {
      "cell_type": "markdown",
      "metadata": {
        "id": "ZdXDKxI6hATj"
      },
      "source": [
        "**Layer Breakdown:**\n",
        "1. **Embedding**: Learns word representations\n",
        "   - `input_dim`: Vocabulary size\n",
        "   - `output_dim`: Embedding dimension\n",
        "   - `input_length`: Fixed sequence length\n",
        "\n",
        "2. **LSTM**: Processes sequential data\n",
        "   - `dropout`: Input dropout rate\n",
        "   - `recurrent_dropout`: Recurrent dropout rate\n",
        "\n",
        "3. **Dense+Dropout**: Prevents overfitting\n",
        "   - 64 neurons with ReLU activation\n",
        "   - 50% dropout rate\n",
        "\n",
        "4. **Output**: Single neuron with sigmoid for binary classification"
      ]
    },
    {
      "cell_type": "markdown",
      "metadata": {
        "id": "H14tNdJyhCJu"
      },
      "source": [
        "### 5. Model Compilation"
      ]
    },
    {
      "cell_type": "code",
      "execution_count": null,
      "metadata": {
        "id": "oaBOnH0FhEGb"
      },
      "outputs": [],
      "source": [
        "model.compile(optimizer='adam',\n",
        "              loss='binary_crossentropy',\n",
        "              metrics=['accuracy'])\n",
        "model.summary()"
      ]
    },
    {
      "cell_type": "markdown",
      "metadata": {
        "id": "G5gp7eDihGBg"
      },
      "source": [
        "**Configuration:**\n",
        "- **Optimizer**: Adam (adaptive learning rate)\n",
        "- **Loss**: Binary crossentropy (standard for binary classification)\n",
        "- **Metrics**: Accuracy (percentage of correct predictions)\n",
        "\n",
        "**`summary()` Output** shows:\n",
        "- Layer types and output shapes\n",
        "- Number of trainable parameters"
      ]
    },
    {
      "cell_type": "markdown",
      "metadata": {
        "id": "zK14MT6VhH4w"
      },
      "source": [
        "### 6. Model Training"
      ]
    },
    {
      "cell_type": "code",
      "execution_count": null,
      "metadata": {
        "colab": {
          "base_uri": "https://localhost:8080/"
        },
        "id": "m71JqWIJhJk8",
        "outputId": "039d436c-5395-4c9c-85cd-c57d6224311a"
      },
      "outputs": [
        {
          "name": "stdout",
          "output_type": "stream",
          "text": [
            "Epoch 1/3\n",
            "\u001b[1m500/500\u001b[0m \u001b[32m━━━━━━━━━━━━━━━━━━━━\u001b[0m\u001b[37m\u001b[0m \u001b[1m315s\u001b[0m 619ms/step - accuracy: 0.7470 - loss: 0.4920 - val_accuracy: 0.8604 - val_loss: 0.3347\n",
            "Epoch 2/3\n",
            "\u001b[1m500/500\u001b[0m \u001b[32m━━━━━━━━━━━━━━━━━━━━\u001b[0m\u001b[37m\u001b[0m \u001b[1m299s\u001b[0m 599ms/step - accuracy: 0.8857 - loss: 0.2972 - val_accuracy: 0.8674 - val_loss: 0.3121\n",
            "Epoch 3/3\n",
            "\u001b[1m500/500\u001b[0m \u001b[32m━━━━━━━━━━━━━━━━━━━━\u001b[0m\u001b[37m\u001b[0m \u001b[1m310s\u001b[0m 619ms/step - accuracy: 0.8992 - loss: 0.2600 - val_accuracy: 0.8709 - val_loss: 0.3195\n"
          ]
        }
      ],
      "source": [
        "history = model.fit(X_train_lstm, y_train_lstm,\n",
        "                   epochs=3,\n",
        "                   batch_size=64,\n",
        "                   validation_split=0.2)"
      ]
    },
    {
      "cell_type": "markdown",
      "metadata": {
        "id": "UMz3GtJAhLaf"
      },
      "source": [
        "**Training Parameters:**\n",
        "- `epochs=3`: Number of full passes through data\n",
        "- `batch_size=64`: Samples per gradient update\n",
        "- `validation_split=0.2`: 20% training data for validation\n",
        "\n",
        "**History Object Contains:**\n",
        "- Training/validation metrics per epoch\n",
        "- Can be used for plotting learning curves"
      ]
    },
    {
      "cell_type": "markdown",
      "metadata": {
        "id": "gS21zOSIhNss"
      },
      "source": [
        "### 7. Model Evaluation"
      ]
    },
    {
      "cell_type": "code",
      "execution_count": null,
      "metadata": {
        "colab": {
          "base_uri": "https://localhost:8080/"
        },
        "id": "fq2isAcqhQbx",
        "outputId": "a23578f4-9496-4562-b906-734076de96d8"
      },
      "outputs": [
        {
          "name": "stdout",
          "output_type": "stream",
          "text": [
            "\u001b[1m313/313\u001b[0m \u001b[32m━━━━━━━━━━━━━━━━━━━━\u001b[0m\u001b[37m\u001b[0m \u001b[1m24s\u001b[0m 75ms/step - accuracy: 0.8745 - loss: 0.3018\n",
            "\n",
            "LSTM Test Accuracy: 0.8733\n"
          ]
        }
      ],
      "source": [
        "loss, accuracy = model.evaluate(X_test_lstm, y_test_lstm)\n",
        "print(f\"\\nLSTM Test Accuracy: {accuracy:.4f}\")"
      ]
    },
    {
      "cell_type": "markdown",
      "metadata": {
        "id": "S9xqMlWFhSXU"
      },
      "source": [
        "**Evaluation Metrics:**\n",
        "- Reports final loss and accuracy on test set\n",
        "- Compare with previous model accuracies"
      ]
    },
    {
      "cell_type": "markdown",
      "metadata": {
        "id": "ERZgioWmhbqz"
      },
      "source": [
        "### 8. Visualizations"
      ]
    },
    {
      "cell_type": "code",
      "execution_count": null,
      "metadata": {
        "colab": {
          "base_uri": "https://localhost:8080/",
          "height": 395
        },
        "id": "uFOc-PiPhcrJ",
        "outputId": "d675c9d1-83c8-4e00-decf-f004cffc7e27"
      },
      "outputs": [
        {
          "data": {
            "image/png": "[encoded data removed]",
            "text/plain": [
              "<Figure size 1200x400 with 2 Axes>"
            ]
          },
          "metadata": {},
          "output_type": "display_data"
        }
      ],
      "source": [
        "import matplotlib.pyplot as plt\n",
        "\n",
        "# Plot training history\n",
        "plt.figure(figsize=(12, 4))\n",
        "plt.subplot(1, 2, 1)\n",
        "plt.plot(history.history['accuracy'], label='Train Accuracy')\n",
        "plt.plot(history.history['val_accuracy'], label='Validation Accuracy')\n",
        "plt.title('Accuracy Over Epochs')\n",
        "plt.legend()\n",
        "\n",
        "plt.subplot(1, 2, 2)\n",
        "plt.plot(history.history['loss'], label='Train Loss')\n",
        "plt.plot(history.history['val_loss'], label='Validation Loss')\n",
        "plt.title('Loss Over Epochs')\n",
        "plt.legend()\n",
        "plt.show()"
      ]
    },
    {
      "cell_type": "markdown",
      "metadata": {
        "id": "TIlM9oVvgp-H"
      },
      "source": [
        "**Visualization Benefits:**\n",
        "- Identifies overfitting/underfitting\n",
        "- Shows convergence behavior\n",
        "- Helps determine optimal epoch count"
      ]
    },
    {
      "cell_type": "markdown",
      "metadata": {
        "id": "r-pmLHDNjQKk"
      },
      "source": [
        "---"
      ]
    }
  ],
  "metadata": {
    "accelerator": "TPU",
    "colab": {
      "gpuType": "V28",
      "provenance": []
    },
    "kernelspec": {
      "display_name": "Python 3",
      "name": "python3"
    },
    "language_info": {
      "name": "python"
    }
  },
  "nbformat": 4,
  "nbformat_minor": 0
}
