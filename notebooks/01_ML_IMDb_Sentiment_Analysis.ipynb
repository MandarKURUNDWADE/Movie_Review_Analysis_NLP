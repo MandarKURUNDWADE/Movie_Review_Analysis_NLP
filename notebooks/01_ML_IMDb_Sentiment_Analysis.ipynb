{
  "cells": [
    {
      "cell_type": "markdown",
      "metadata": {},
      "source": [
        "<h2 style=\"text-align:center;\">IMDb Movie Review Sentiment Analysis</h2>\n",
        "\n",
        "<h3 style=\"text-align:center;\">NLP Project <br>- Traditional approaches (TF-IDF with classifiers) <br>- Advanced deep learning models (LSTM and BERT).</h3>"
      ]
    },
    {
      "cell_type": "markdown",
      "metadata": {},
      "source": [
        "---"
      ]
    },
    {
      "cell_type": "markdown",
      "metadata": {
        "id": "rPg1xzeNbdEN"
      },
      "source": [
        "\n",
        "\n",
        "## Table of Contents\n",
        "1. [Introduction](#introduction)\n",
        "2. [Data Loading and Exploration](#data-loading)\n",
        "3. [Text Preprocessing](#preprocessing)\n",
        "4. [Feature Extraction](#feature-extraction)\n",
        "5. [Traditional ML Models](#traditional-ml)\n",
        "\n",
        "\n",
        "\n",
        "## 1. Introduction <a name=\"introduction\"></a>\n",
        "\n",
        "This project performs sentiment analysis on IMDb movie reviews using various machine learning and deep learning techniques. We compare traditional approaches (TF-IDF with classifiers) with advanced deep learning models (LSTM and BERT)."
      ]
    },
    {
      "cell_type": "code",
      "execution_count": null,
      "metadata": {
        "id": "WpKuOyPZZXxb"
      },
      "outputs": [],
      "source": [
        "# Install required packages\n",
        "!pip install tensorflow transformers pandas numpy matplotlib nltk seaborn"
      ]
    },
    {
      "cell_type": "code",
      "execution_count": null,
      "metadata": {
        "colab": {
          "base_uri": "https://localhost:8080/"
        },
        "id": "OmS0s0W_Dtf_",
        "outputId": "0822f370-4f5e-4117-c909-862f2a6cd504"
      },
      "outputs": [
        {
          "name": "stdout",
          "output_type": "stream",
          "text": [
            "TensorFlow version: 2.18.0\n",
            "No GPU found\n"
          ]
        }
      ],
      "source": [
        "import tensorflow as tf\n",
        "print(\"TensorFlow version:\", tf.__version__)\n",
        "gpu_device_name = tf.test.gpu_device_name()\n",
        "if gpu_device_name:\n",
        "    print(\"GPU device name:\", gpu_device_name)\n",
        "else:\n",
        "    print(\"No GPU found\")"
      ]
    },
    {
      "cell_type": "markdown",
      "metadata": {
        "id": "xn5o8Jx7bn44"
      },
      "source": [
        "## 2. Data Loading and Exploration <a name=\"data-loading\"></a>\n",
        "\n",
        "First, we load and explore the dataset to understand its structure and characteristics."
      ]
    },
    {
      "cell_type": "markdown",
      "metadata": {
        "id": "i6f-7gavAJXf"
      },
      "source": [
        "**Importing Required Libraries**\n",
        "\n",
        "We import necessary packages for:\n",
        "- Data manipulation (pandas, numpy)\n",
        "- Data visualization (matplotlib, seaborn)"
      ]
    },
    {
      "cell_type": "code",
      "execution_count": null,
      "metadata": {
        "id": "wqSPIAOxAOpT"
      },
      "outputs": [],
      "source": [
        "import pandas as pd\n",
        "import numpy as np\n",
        "import matplotlib.pyplot as plt\n",
        "import seaborn as sns\n",
        "\n",
        "# Set style for better-looking plots\n",
        "sns.set_theme()"
      ]
    },
    {
      "cell_type": "markdown",
      "metadata": {
        "id": "yB-pexSLARup"
      },
      "source": [
        "**Loading and Initial Exploration**\n",
        "\n",
        "Load the dataset and perform initial inspection:\n",
        "- Check dataset dimensions\n",
        "- Examine first few rows\n",
        "- Identify missing values\n",
        "- Analyze sentiment distribution"
      ]
    },
    {
      "cell_type": "code",
      "execution_count": null,
      "metadata": {
        "colab": {
          "base_uri": "https://localhost:8080/"
        },
        "id": "zVtoGl6xAWf2",
        "outputId": "483b9705-b543-4730-d64b-248e9b7705a8"
      },
      "outputs": [
        {
          "name": "stdout",
          "output_type": "stream",
          "text": [
            "Dataset shape: (50000, 2)\n",
            "\n",
            "First 5 rows:\n",
            "                                              review sentiment\n",
            "0  One of the other reviewers has mentioned that ...  positive\n",
            "1  A wonderful little production. <br /><br />The...  positive\n",
            "2  I thought this was a wonderful way to spend ti...  positive\n",
            "3  Basically there's a family where a little boy ...  negative\n",
            "4  Petter Mattei's \"Love in the Time of Money\" is...  positive\n",
            "\n",
            "Missing values:\n",
            "review       0\n",
            "sentiment    0\n",
            "dtype: int64\n",
            "\n",
            "Sentiment distribution:\n",
            "sentiment\n",
            "positive    25000\n",
            "negative    25000\n",
            "Name: count, dtype: int64\n"
          ]
        }
      ],
      "source": [
        "# Load the data\n",
        "df = pd.read_csv('/content/data_imdb.csv')\n",
        "\n",
        "# Initial exploration\n",
        "print(\"Dataset shape:\", df.shape)\n",
        "print(\"\\nFirst 5 rows:\")\n",
        "print(df.head())\n",
        "print(\"\\nMissing values:\")\n",
        "print(df.isnull().sum())\n",
        "print(\"\\nSentiment distribution:\")\n",
        "print(df['sentiment'].value_counts())"
      ]
    },
    {
      "cell_type": "markdown",
      "metadata": {
        "id": "mEA6Sg_vAYXU"
      },
      "source": [
        "**Review Length Analysis**\n",
        "\n",
        "Analyze the length of reviews:\n",
        "- Create new column for review length\n",
        "- Calculate descriptive statistics\n",
        "- Visualize distribution of lengths"
      ]
    },
    {
      "cell_type": "code",
      "execution_count": null,
      "metadata": {
        "colab": {
          "base_uri": "https://localhost:8080/",
          "height": 639
        },
        "id": "_t274CC6AcYZ",
        "outputId": "5cb021b8-0ed2-4efb-c2ec-c2dadcc12e50"
      },
      "outputs": [
        {
          "name": "stdout",
          "output_type": "stream",
          "text": [
            "\n",
            "Review length statistics:\n",
            "count    50000.000000\n",
            "mean      1309.367720\n",
            "std        989.759532\n",
            "min          7.000000\n",
            "25%        699.000000\n",
            "50%        970.000000\n",
            "75%       1590.000000\n",
            "max      13704.000000\n",
            "Name: review_length, dtype: float64\n"
          ]
        },
        {
          "data": {
            "image/png": "[encoded data removed]",
            "text/plain": [
              "<Figure size 1000x600 with 1 Axes>"
            ]
          },
          "metadata": {},
          "output_type": "display_data"
        }
      ],
      "source": [
        "# Analyze review length\n",
        "df['review_length'] = df['review'].apply(len)\n",
        "print(\"\\nReview length statistics:\")\n",
        "print(df['review_length'].describe())\n",
        "\n",
        "# Plot review length distribution\n",
        "plt.figure(figsize=(10, 6))\n",
        "sns.histplot(df['review_length'], bins=50, kde=True)\n",
        "plt.title('Distribution of Review Length', fontsize=14)\n",
        "plt.xlabel('Number of Characters', fontsize=12)\n",
        "plt.ylabel('Frequency', fontsize=12)\n",
        "plt.grid(True, alpha=0.3)\n",
        "plt.show()"
      ]
    },
    {
      "cell_type": "markdown",
      "metadata": {
        "id": "XV75r6Wubs-J"
      },
      "source": [
        "## 3. Text Preprocessing <a name=\"preprocessing\"></a>\n",
        "\n",
        "Clean and prepare the text data for analysis by removing noise and standardizing the format."
      ]
    },
    {
      "cell_type": "markdown",
      "metadata": {
        "id": "jqppS9LyBHVb"
      },
      "source": [
        "**Importing Required Libraries**\n",
        "\n",
        "We import necessary packages for:\n",
        "- Regular expressions (`re`) for pattern matching\n",
        "- NLTK for natural language processing\n",
        "- Text processing tools (stopwords, tokenizer, lemmatizer)"
      ]
    },
    {
      "cell_type": "code",
      "execution_count": null,
      "metadata": {
        "id": "GGlaFd6bBO4W"
      },
      "outputs": [],
      "source": [
        "import re\n",
        "import nltk\n",
        "from nltk.corpus import stopwords\n",
        "from nltk.tokenize import word_tokenize\n",
        "from nltk.stem import WordNetLemmatizer"
      ]
    },
    {
      "cell_type": "markdown",
      "metadata": {
        "id": "u0jP2-7NBQ9-"
      },
      "source": [
        "**Downloading NLTK Resources**\n",
        "\n",
        "Download required NLTK data packages:\n",
        "- `punkt` for tokenization\n",
        "- `stopwords` for common English stopwords\n",
        "- `wordnet` for lemmatization\n",
        "- `punkt_tab` for improved tokenization"
      ]
    },
    {
      "cell_type": "code",
      "execution_count": null,
      "metadata": {
        "colab": {
          "base_uri": "https://localhost:8080/"
        },
        "id": "VjT82569BUNw",
        "outputId": "02ad5886-de15-46fc-d6ae-48b190b67bd3"
      },
      "outputs": [
        {
          "name": "stderr",
          "output_type": "stream",
          "text": [
            "[nltk_data] Downloading package punkt to /root/nltk_data...\n",
            "[nltk_data]   Unzipping tokenizers/punkt.zip.\n",
            "[nltk_data] Downloading package stopwords to /root/nltk_data...\n",
            "[nltk_data]   Unzipping corpora/stopwords.zip.\n",
            "[nltk_data] Downloading package wordnet to /root/nltk_data...\n",
            "[nltk_data] Downloading package punkt_tab to /root/nltk_data...\n",
            "[nltk_data]   Unzipping tokenizers/punkt_tab.zip.\n"
          ]
        },
        {
          "data": {
            "text/plain": [
              "True"
            ]
          },
          "execution_count": 9,
          "metadata": {},
          "output_type": "execute_result"
        }
      ],
      "source": [
        "nltk.download('punkt')\n",
        "nltk.download('stopwords')\n",
        "nltk.download('wordnet')\n",
        "nltk.download('punkt_tab')"
      ]
    },
    {
      "cell_type": "markdown",
      "metadata": {
        "id": "ntZvbTuFBWh8"
      },
      "source": [
        "**Initializing Text Processing Tools**\n",
        "\n",
        "Set up our text cleaning pipeline components:\n",
        "- Lemmatizer to reduce words to base forms\n",
        "- Stopwords list for filtering common words"
      ]
    },
    {
      "cell_type": "code",
      "execution_count": null,
      "metadata": {
        "id": "9WhCa6ZbBabg"
      },
      "outputs": [],
      "source": [
        "# Initialize text processing tools\n",
        "lemmatizer = WordNetLemmatizer()\n",
        "stop_words = set(stopwords.words('english'))"
      ]
    },
    {
      "cell_type": "markdown",
      "metadata": {
        "id": "yFSQSCAxBHMz"
      },
      "source": [
        "**Text Preprocessing Function**\n",
        "\n",
        "This comprehensive cleaning function performs:\n",
        "1. Case normalization (lowercasing)\n",
        "2. HTML tag removal\n",
        "3. Special character/number removal\n",
        "4. Tokenization\n",
        "5. Stopword removal\n",
        "6. Lemmatization\n",
        "7. Rejoining tokens into clean text"
      ]
    },
    {
      "cell_type": "code",
      "execution_count": null,
      "metadata": {
        "id": "aruvSYb_BuQq"
      },
      "outputs": [],
      "source": [
        "def preprocess_text(text):\n",
        "    # Convert to lowercase\n",
        "    text = text.lower()\n",
        "    # Remove HTML tags\n",
        "    text = re.sub(r'<[^>]+>', '', text)\n",
        "    # Remove special characters and numbers\n",
        "    text = re.sub(r'[^a-zA-Z\\s]', '', text)\n",
        "    # Tokenize\n",
        "    tokens = word_tokenize(text)\n",
        "    # Remove stopwords and lemmatize\n",
        "    tokens = [lemmatizer.lemmatize(word) for word in tokens if word not in stop_words]\n",
        "    return ' '.join(tokens)"
      ]
    },
    {
      "cell_type": "markdown",
      "metadata": {
        "id": "hCeqcmkaBwLs"
      },
      "source": [
        "**Applying Preprocessing to Reviews**\n",
        "\n",
        "Apply our cleaning function to all reviews:\n",
        "- Creates new column with cleaned text\n",
        "- Shows sample before/after comparison"
      ]
    },
    {
      "cell_type": "code",
      "execution_count": null,
      "metadata": {
        "colab": {
          "base_uri": "https://localhost:8080/"
        },
        "id": "VHtoG1jlB0HO",
        "outputId": "f8f1815c-2c86-4304-c7d5-2d6d13a4060c"
      },
      "outputs": [
        {
          "name": "stdout",
          "output_type": "stream",
          "text": [
            "\n",
            "Sample cleaned reviews:\n",
            "                                              review  \\\n",
            "0  One of the other reviewers has mentioned that ...   \n",
            "1  A wonderful little production. <br /><br />The...   \n",
            "2  I thought this was a wonderful way to spend ti...   \n",
            "3  Basically there's a family where a little boy ...   \n",
            "4  Petter Mattei's \"Love in the Time of Money\" is...   \n",
            "\n",
            "                                      cleaned_review  \n",
            "0  one reviewer mentioned watching oz episode you...  \n",
            "1  wonderful little production filming technique ...  \n",
            "2  thought wonderful way spend time hot summer we...  \n",
            "3  basically there family little boy jake think t...  \n",
            "4  petter matteis love time money visually stunni...  \n"
          ]
        }
      ],
      "source": [
        "# Apply preprocessing\n",
        "df['cleaned_review'] = df['review'].apply(preprocess_text)\n",
        "print(\"\\nSample cleaned reviews:\")\n",
        "print(df[['review', 'cleaned_review']].head())"
      ]
    },
    {
      "cell_type": "markdown",
      "metadata": {
        "id": "vOYO28IWbx_b"
      },
      "source": [
        "## 4. Feature Extraction <a name=\"feature-extraction\"></a>\n",
        "\n",
        "Convert text into numerical features that machine learning models can process.\n"
      ]
    },
    {
      "cell_type": "markdown",
      "metadata": {
        "id": "4RqfTOC9FZWS"
      },
      "source": [
        "**TF-IDF Vectorization:**\n",
        "TF-IDF (Term Frequency-Inverse Document Frequency) is used to convert text data into numerical features that represent the importance of words in documents relative to their frequency across all documents."
      ]
    },
    {
      "cell_type": "code",
      "execution_count": null,
      "metadata": {
        "id": "IZHdX36QFdiQ"
      },
      "outputs": [],
      "source": [
        "from sklearn.feature_extraction.text import TfidfVectorizer\n",
        "\n",
        "# Initialize TF-IDF Vectorizer with maximum 5000 features\n",
        "tfidf_vectorizer = TfidfVectorizer(max_features=5000)\n",
        "\n",
        "# Transform cleaned reviews into TF-IDF features\n",
        "X_tfidf = tfidf_vectorizer.fit_transform(df['cleaned_review'])"
      ]
    },
    {
      "cell_type": "markdown",
      "metadata": {
        "id": "4HiQ5YUUFjJC"
      },
      "source": [
        "**Explanation:**\n",
        "- `TfidfVectorizer` converts text to TF-IDF features matrix\n",
        "- `max_features=5000` limits the vocabulary size to top 5000 terms\n",
        "- `fit_transform()` learns vocabulary and transforms text data in one step\n",
        "- Output is a sparse matrix where each row represents a review and columns represent TF-IDF scores for each word\n",
        "\n",
        "\n",
        "\n"
      ]
    },
    {
      "cell_type": "markdown",
      "metadata": {
        "id": "GrATJ1K3Fs_p"
      },
      "source": [
        "**Label Encoding:**\n",
        "\n",
        "Convert sentiment labels from text to numerical values for machine learning."
      ]
    },
    {
      "cell_type": "code",
      "execution_count": null,
      "metadata": {
        "id": "um792AeeFpmQ"
      },
      "outputs": [],
      "source": [
        "# Convert sentiment to numerical values (positive=1, negative=0)\n",
        "y = df['sentiment'].map({'positive': 1, 'negative': 0})"
      ]
    },
    {
      "cell_type": "markdown",
      "metadata": {
        "id": "Xq0CNm2oF0qE"
      },
      "source": [
        "**Explanation:**\n",
        "- Maps 'positive' sentiment to 1 and 'negative' to 0\n",
        "- This binary encoding is required for most classification algorithms"
      ]
    },
    {
      "cell_type": "markdown",
      "metadata": {
        "id": "EcnIvGiUF7Ob"
      },
      "source": [
        "\n",
        "**Train-Test Split:**\n",
        "\n",
        "Split the dataset into training and testing subsets for model evaluation."
      ]
    },
    {
      "cell_type": "code",
      "execution_count": null,
      "metadata": {
        "colab": {
          "base_uri": "https://localhost:8080/"
        },
        "id": "-QbOg1skF8w1",
        "outputId": "224228bf-c939-4dd5-a0d0-f76d44e96ed2"
      },
      "outputs": [
        {
          "name": "stdout",
          "output_type": "stream",
          "text": [
            "\n",
            "Training set size: (40000, 5000)\n",
            "Testing set size: (10000, 5000)\n"
          ]
        }
      ],
      "source": [
        "from sklearn.model_selection import train_test_split\n",
        "\n",
        "# Split data into 80% training and 20% testing\n",
        "X_train, X_test, y_train, y_test = train_test_split(\n",
        "    X_tfidf, y,\n",
        "    test_size=0.2,\n",
        "    random_state=42\n",
        ")\n",
        "\n",
        "# Display dataset sizes\n",
        "print(f\"\\nTraining set size: {X_train.shape}\")\n",
        "print(f\"Testing set size: {X_test.shape}\")"
      ]
    },
    {
      "cell_type": "markdown",
      "metadata": {
        "id": "3c5YwZaCGBcL"
      },
      "source": [
        "**Explanation:**\n",
        "- `train_test_split` randomly divides the data while maintaining class proportions\n",
        "- `test_size=0.2` allocates 20% of data for testing\n",
        "- `random_state=42` ensures reproducible splits\n",
        "- Shapes are printed to verify proper splitting"
      ]
    },
    {
      "cell_type": "markdown",
      "metadata": {
        "id": "JjXekp_Bb2LJ"
      },
      "source": [
        "## 5. Traditional ML Models <a name=\"traditional-ml\"></a>\n",
        "\n",
        "Train and evaluate several traditional machine learning classifiers.\n"
      ]
    },
    {
      "cell_type": "markdown",
      "metadata": {
        "id": "GF1Bw5BuGq7u"
      },
      "source": [
        "**Importing Required Libraries:**\n",
        "\n",
        "First, we import the necessary machine learning models and evaluation metrics:"
      ]
    },
    {
      "cell_type": "code",
      "execution_count": null,
      "metadata": {
        "id": "5RhzIpHsGtv3"
      },
      "outputs": [],
      "source": [
        "from sklearn.linear_model import LogisticRegression\n",
        "from sklearn.naive_bayes import MultinomialNB\n",
        "from sklearn.svm import SVC\n",
        "from sklearn.ensemble import RandomForestClassifier\n",
        "from sklearn.metrics import accuracy_score, classification_report"
      ]
    },
    {
      "cell_type": "markdown",
      "metadata": {
        "id": "wh5s4GasGxU_"
      },
      "source": [
        "Explanation:\n",
        "- `LogisticRegression`: A linear model for binary classification\n",
        "- `MultinomialNB`: Naive Bayes classifier for multinomial distributed data\n",
        "- `SVC`: Support Vector Machine classifier\n",
        "- `RandomForestClassifier`: Ensemble of decision trees\n",
        "- `accuracy_score`: Metric to evaluate classification accuracy\n",
        "- `classification_report`: Comprehensive report of precision, recall, f1-score"
      ]
    },
    {
      "cell_type": "markdown",
      "metadata": {
        "id": "vzRW0_QtG4Pr"
      },
      "source": [
        "**Model Initialization:**\n",
        "\n",
        "We initialize four different classification models with their default or specified parameters:"
      ]
    },
    {
      "cell_type": "code",
      "execution_count": null,
      "metadata": {
        "id": "4h0-VoGjG64w"
      },
      "outputs": [],
      "source": [
        "models = {\n",
        "    \"Logistic Regression\": LogisticRegression(),\n",
        "    \"Naive Bayes\": MultinomialNB(),\n",
        "    \"SVM\": SVC(kernel='linear', probability=True),\n",
        "    \"Random Forest\": RandomForestClassifier(n_estimators=100, random_state=42)\n",
        "}"
      ]
    },
    {
      "cell_type": "markdown",
      "metadata": {
        "id": "1wnudam9G_Yd"
      },
      "source": [
        "Explanation:\n",
        "- `LogisticRegression()`: Default parameters\n",
        "- `MultinomialNB()`: Default parameters suitable for text classification\n",
        "- `SVC()`: Using linear kernel with probability estimates enabled\n",
        "- `RandomForestClassifier()`: 100 decision trees with fixed random state for reproducibility\n"
      ]
    },
    {
      "cell_type": "markdown",
      "metadata": {
        "id": "fHQBNQv7HFku"
      },
      "source": [
        "**Model Training and Evaluation:**\n",
        "\n",
        "We train each model and evaluate its performance on the test set:"
      ]
    },
    {
      "cell_type": "code",
      "execution_count": null,
      "metadata": {
        "colab": {
          "base_uri": "https://localhost:8080/"
        },
        "id": "pmBcrvAiHIMd",
        "outputId": "2249024e-bba1-4d24-ae4c-517f1ce10b4e"
      },
      "outputs": [
        {
          "name": "stdout",
          "output_type": "stream",
          "text": [
            "\n",
            "Training Logistic Regression...\n",
            "Logistic Regression Accuracy: 0.8847\n",
            "Classification Report:\n",
            "              precision    recall  f1-score   support\n",
            "\n",
            "           0       0.89      0.87      0.88      4961\n",
            "           1       0.88      0.90      0.89      5039\n",
            "\n",
            "    accuracy                           0.88     10000\n",
            "   macro avg       0.89      0.88      0.88     10000\n",
            "weighted avg       0.88      0.88      0.88     10000\n",
            "\n",
            "\n",
            "Training Naive Bayes...\n",
            "Naive Bayes Accuracy: 0.8489\n",
            "Classification Report:\n",
            "              precision    recall  f1-score   support\n",
            "\n",
            "           0       0.85      0.84      0.85      4961\n",
            "           1       0.85      0.85      0.85      5039\n",
            "\n",
            "    accuracy                           0.85     10000\n",
            "   macro avg       0.85      0.85      0.85     10000\n",
            "weighted avg       0.85      0.85      0.85     10000\n",
            "\n",
            "\n",
            "Training SVM...\n",
            "SVM Accuracy: 0.8862\n",
            "Classification Report:\n",
            "              precision    recall  f1-score   support\n",
            "\n",
            "           0       0.89      0.88      0.88      4961\n",
            "           1       0.88      0.90      0.89      5039\n",
            "\n",
            "    accuracy                           0.89     10000\n",
            "   macro avg       0.89      0.89      0.89     10000\n",
            "weighted avg       0.89      0.89      0.89     10000\n",
            "\n",
            "\n",
            "Training Random Forest...\n",
            "Random Forest Accuracy: 0.8467\n",
            "Classification Report:\n",
            "              precision    recall  f1-score   support\n",
            "\n",
            "           0       0.84      0.86      0.85      4961\n",
            "           1       0.86      0.84      0.85      5039\n",
            "\n",
            "    accuracy                           0.85     10000\n",
            "   macro avg       0.85      0.85      0.85     10000\n",
            "weighted avg       0.85      0.85      0.85     10000\n",
            "\n"
          ]
        }
      ],
      "source": [
        "for name, model in models.items():\n",
        "    print(f\"\\nTraining {name}...\")\n",
        "    model.fit(X_train, y_train)\n",
        "    y_pred = model.predict(X_test)\n",
        "    print(f\"{name} Accuracy: {accuracy_score(y_test, y_pred):.4f}\")\n",
        "    print(\"Classification Report:\")\n",
        "    print(classification_report(y_test, y_pred))"
      ]
    },
    {
      "cell_type": "markdown",
      "metadata": {
        "id": "oLThG5PBHQ0H"
      },
      "source": [
        "Explanation:\n",
        "1. **Training Loop**:\n",
        "   - Iterates through each model in our dictionary\n",
        "   - Prints the model name being trained\n",
        "   - Fits the model to our training data (`X_train`, `y_train`)\n",
        "\n",
        "2. **Prediction**:\n",
        "   - Makes predictions on the test set (`X_test`)\n",
        "   \n",
        "3. **Evaluation**:\n",
        "   - Calculates and prints accuracy score (rounded to 4 decimal places)\n",
        "   - Generates a full classification report showing:\n",
        "     - Precision: Proportion of true positives among predicted positives\n",
        "     - Recall: Proportion of actual positives correctly identified\n",
        "     - F1-score: Harmonic mean of precision and recall\n",
        "     - Support: Number of samples in each class"
      ]
    },
    {
      "cell_type": "markdown",
      "metadata": {
        "id": "yrN2y0DmIHtD"
      },
      "source": [
        "---"
      ]
    },
    {
      "cell_type": "markdown",
      "metadata": {
        "id": "uFhuIu0efB1X"
      },
      "source": [
        "#### 1. Model and Vectorizer Persistence"
      ]
    },
    {
      "cell_type": "code",
      "execution_count": null,
      "metadata": {
        "id": "QponQT5aJsek"
      },
      "outputs": [],
      "source": [
        "import pandas as pd\n",
        "import numpy as np\n",
        "from sklearn.model_selection import train_test_split\n",
        "from sklearn.feature_extraction.text import TfidfVectorizer\n",
        "from sklearn.linear_model import LogisticRegression\n",
        "from sklearn.naive_bayes import MultinomialNB\n",
        "from sklearn.svm import SVC\n",
        "from sklearn.ensemble import RandomForestClassifier\n",
        "from sklearn.metrics import accuracy_score, classification_report, confusion_matrix\n",
        "import joblib\n",
        "import re\n",
        "from bs4 import BeautifulSoup\n",
        "import warnings\n",
        "\n",
        "# Suppress all DeprecationWarnings\n",
        "warnings.simplefilter(\"ignore\", category=DeprecationWarning)"
      ]
    },
    {
      "cell_type": "code",
      "execution_count": null,
      "metadata": {
        "id": "ohnJza36fIYV"
      },
      "outputs": [],
      "source": [
        "# Save the SVM model and vectorizer\n",
        "svm_model = models[\"SVM\"]\n",
        "joblib.dump(svm_model, 'sentiment_model_svm.pkl')\n",
        "joblib.dump(tfidf_vectorizer, 'tfidf_vectorizer.pkl')"
      ]
    },
    {
      "cell_type": "markdown",
      "metadata": {
        "id": "wEIxGMT7fLA8"
      },
      "source": [
        "**Key Points:**\n",
        "- `joblib` is preferred over `pickle` for scikit-learn models as it's more efficient with NumPy arrays\n",
        "- We save:\n",
        "  - The trained SVM model (`sentiment_model_svm.pkl`)\n",
        "  - The TF-IDF vectorizer (`tfidf_vectorizer.pkl`) which contains the vocabulary mapping\n",
        "- Both components must be saved to ensure consistent preprocessing of new data"
      ]
    },
    {
      "cell_type": "markdown",
      "metadata": {
        "id": "9LIvev-qfb5s"
      },
      "source": [
        "#### 2. Prediction Function"
      ]
    },
    {
      "cell_type": "code",
      "execution_count": null,
      "metadata": {
        "id": "8ImPeKDxfa3B"
      },
      "outputs": [],
      "source": [
        "def predict_sentiment(text):\n",
        "    # Load the model and vectorizer\n",
        "    model = joblib.load('sentiment_model_svm.pkl')\n",
        "    vectorizer = joblib.load('tfidf_vectorizer.pkl')\n",
        "\n",
        "    # Preprocess the text\n",
        "    cleaned_text = preprocess_text(text)\n",
        "\n",
        "    # Vectorize the text\n",
        "    text_vector = vectorizer.transform([cleaned_text])\n",
        "\n",
        "    # Make prediction\n",
        "    prediction = model.predict(text_vector)\n",
        "    probability = model.predict_proba(text_vector)\n",
        "\n",
        "    return prediction[0], probability[0]"
      ]
    },
    {
      "cell_type": "markdown",
      "metadata": {
        "id": "6ffxR2bLfguU"
      },
      "source": [
        "**Function Workflow:**\n",
        "1. **Model Loading**: Restores both the classifier and vectorizer from disk\n",
        "2. **Text Cleaning**: Applies the same preprocessing used during training\n",
        "3. **Feature Transformation**: Uses the saved vectorizer to create TF-IDF features\n",
        "4. **Prediction**: Returns both the class label and probability distribution"
      ]
    },
    {
      "cell_type": "code",
      "execution_count": null,
      "metadata": {
        "colab": {
          "base_uri": "https://localhost:8080/"
        },
        "id": "qQhY-J7QfnC-",
        "outputId": "c95face1-50a8-453e-e892-5a93673c5f90"
      },
      "outputs": [
        {
          "name": "stdout",
          "output_type": "stream",
          "text": [
            "\n",
            "Testing with sample reviews:\n",
            "\n",
            "Review: This movie was absolutely fantastic! The acting was superb and the storyline was captivating.\n",
            "Predicted sentiment: 1\n",
            "Probability: [0.00505837 0.99494163]\n",
            "\n",
            "Review: I hated every minute of this film. It was boring and poorly made.\n",
            "Predicted sentiment: 0\n",
            "Probability: [9.99990683e-01 9.31660355e-06]\n",
            "\n",
            "Review: The cinematography was beautiful but the plot was confusing and hard to follow.\n",
            "Predicted sentiment: 0\n",
            "Probability: [0.80151646 0.19848354]\n"
          ]
        }
      ],
      "source": [
        "sample_reviews = [\n",
        "    \"This movie was absolutely fantastic! The acting was superb and the storyline was captivating.\",\n",
        "    \"I hated every minute of this film. It was boring and poorly made.\",\n",
        "    \"The cinematography was beautiful but the plot was confusing and hard to follow.\"\n",
        "]\n",
        "\n",
        "print(\"\\nTesting with sample reviews:\")\n",
        "for review in sample_reviews:\n",
        "    pred, prob = predict_sentiment(review)\n",
        "    print(f\"\\nReview: {review}\")\n",
        "    print(f\"Predicted sentiment: {pred}\")\n",
        "    print(f\"Probability: {prob}\")"
      ]
    },
    {
      "cell_type": "markdown",
      "metadata": {
        "id": "QVMWqxkCKy6m"
      },
      "source": [
        "---"
      ]
    }
  ],
  "metadata": {
    "accelerator": "TPU",
    "colab": {
      "gpuType": "V28",
      "provenance": []
    },
    "kernelspec": {
      "display_name": "Python 3",
      "name": "python3"
    },
    "language_info": {
      "name": "python"
    }
  },
  "nbformat": 4,
  "nbformat_minor": 0
}
